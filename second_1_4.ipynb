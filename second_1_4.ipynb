{
 "cells": [
  {
   "cell_type": "code",
   "execution_count": 1,
   "metadata": {},
   "outputs": [
    {
     "name": "stdout",
     "output_type": "stream",
     "text": [
      "定积分的结果是：0.7951866427656943\n"
     ]
    }
   ],
   "source": [
    "import numpy as np\n",
    "from scipy.integrate import quad\n",
    "def f(x):\n",
    "    return np.cos(2 * np.pi * x) * np.exp(-x) + 1.2\n",
    "\n",
    "integral, error = quad(f, 0, 0.7)\n",
    "\n",
    "print(f'定积分的结果是：{integral}')"
   ]
  },
  {
   "cell_type": "code",
   "execution_count": 2,
   "metadata": {},
   "outputs": [
    {
     "ename": "NameError",
     "evalue": "name 'x' is not defined",
     "output_type": "error",
     "traceback": [
      "\u001b[1;31m---------------------------------------------------------------------------\u001b[0m",
      "\u001b[1;31mNameError\u001b[0m                                 Traceback (most recent call last)",
      "Cell \u001b[1;32mIn[2], line 1\u001b[0m\n\u001b[1;32m----> 1\u001b[0m h\u001b[38;5;241m=\u001b[39mx[\u001b[38;5;241m1\u001b[39m]\u001b[38;5;241m-\u001b[39mx[\u001b[38;5;241m0\u001b[39m]\n\u001b[0;32m      2\u001b[0m xn\u001b[38;5;241m=\u001b[39m\u001b[38;5;241m0.7\u001b[39m\n\u001b[0;32m      3\u001b[0m s\u001b[38;5;241m=\u001b[39m\u001b[38;5;241m0\u001b[39m\n",
      "\u001b[1;31mNameError\u001b[0m: name 'x' is not defined"
     ]
    }
   ],
   "source": [
    "h=x[1]-x[0]\n",
    "xn=0.7\n",
    "s=0\n",
    "for i in range(1000):\n",
    "    xn1=xn+h\n",
    "    yn=np.cos(2*np.pi*xn)*np.exp(-xn)+1.2\n",
    "    yn1=np.cos(2*np.pi*xn1)*np.exp(-xn1)+1.2\n",
    "    s0=(yn+yn1)*h/2\n",
    "    s+=s0\n",
    "    xn=xn1\n",
    "s"
   ]
  },
  {
   "cell_type": "code",
   "execution_count": 3,
   "metadata": {},
   "outputs": [
    {
     "name": "stdout",
     "output_type": "stream",
     "text": [
      "在x = 1 处的导数值是： 1.9797979797979792\n"
     ]
    }
   ],
   "source": [
    "import numpy as np\n",
    "x = np.linspace(0, 2, 100)\n",
    "y = x**2\n",
    "dydx = np.gradient(y, x)\n",
    "derivative_at_1 = dydx[np.argmin(abs(x - 1))]\n",
    "print('在x = 1 处的导数值是：', derivative_at_1)"
   ]
  }
 ],
 "metadata": {
  "kernelspec": {
   "display_name": "base",
   "language": "python",
   "name": "python3"
  },
  "language_info": {
   "codemirror_mode": {
    "name": "ipython",
    "version": 3
   },
   "file_extension": ".py",
   "mimetype": "text/x-python",
   "name": "python",
   "nbconvert_exporter": "python",
   "pygments_lexer": "ipython3",
   "version": "3.12.4"
  }
 },
 "nbformat": 4,
 "nbformat_minor": 2
}
