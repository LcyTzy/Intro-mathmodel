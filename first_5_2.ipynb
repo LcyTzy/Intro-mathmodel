{
 "cells": [
  {
   "cell_type": "code",
   "execution_count": 1,
   "metadata": {},
   "outputs": [
    {
     "name": "stdout",
     "output_type": "stream",
     "text": [
      "[1]\n",
      "{x: 23, y: 12}\n",
      "[-5, 4]\n",
      "{(-2, -2), (0, 0)}\n"
     ]
    }
   ],
   "source": [
    "from sympy import symbols, solve, nonlinsolve\n",
    "\n",
    "x, y = symbols('x y')\n",
    "print(solve(x * 2 - 2, x))\n",
    "\n",
    "print(solve([x + y - 35, x * 2 + y * 4 - 94]))\n",
    "\n",
    "print(solve(x ** 2 + x - 20, x))\n",
    "\n",
    "a, b, c, d = symbols('a b c d', real = True)\n",
    "print(nonlinsolve([a ** 2 + a + b, a - b], [a, b]))"
   ]
  }
 ],
 "metadata": {
  "kernelspec": {
   "display_name": "base",
   "language": "python",
   "name": "python3"
  },
  "language_info": {
   "codemirror_mode": {
    "name": "ipython",
    "version": 3
   },
   "file_extension": ".py",
   "mimetype": "text/x-python",
   "name": "python",
   "nbconvert_exporter": "python",
   "pygments_lexer": "ipython3",
   "version": "3.12.4"
  }
 },
 "nbformat": 4,
 "nbformat_minor": 2
}
