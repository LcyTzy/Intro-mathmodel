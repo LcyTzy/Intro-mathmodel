{
 "cells": [
  {
   "cell_type": "code",
   "execution_count": 1,
   "metadata": {},
   "outputs": [
    {
     "name": "stdout",
     "output_type": "stream",
     "text": [
      "原坐标为： [5 3]\n",
      "旋转后的坐标为： [2.83012702 5.09807621]\n"
     ]
    }
   ],
   "source": [
    "import numpy as np\n",
    "\n",
    "# 设置旋转角度，这里我们以30度为例\n",
    "theta = np.radians(30)  # 将30度转换为弧度\n",
    "\n",
    "# 创建旋转矩阵\n",
    "rotation_matrix = np.array([\n",
    "    [np.cos(theta), -np.sin(theta)],\n",
    "    [np.sin(theta), np.cos(theta)]\n",
    "])\n",
    "\n",
    "# 假设我们有一个点(a, b)\n",
    "point = np.array([5, 3])\n",
    "\n",
    "# 通过旋转矩阵变换这个点的坐标\n",
    "rotated_point = rotation_matrix.dot(point)\n",
    "\n",
    "print(\"原坐标为：\", point)\n",
    "print(\"旋转后的坐标为：\",rotated_point)"
   ]
  },
  {
   "cell_type": "code",
   "execution_count": 2,
   "metadata": {},
   "outputs": [
    {
     "name": "stdout",
     "output_type": "stream",
     "text": [
      "组合旋转矩阵为:\n",
      "[[ 0.61237244 -0.35355339  0.70710678]\n",
      " [ 0.78033009  0.12682648 -0.61237244]\n",
      " [ 0.12682648  0.9267767   0.35355339]]\n"
     ]
    }
   ],
   "source": [
    "import numpy as np\n",
    "\n",
    "# 定义旋转角度(以弧度为单位)\n",
    "alpha = np.radians(30)  # 绕Z轴旋转\n",
    "beta = np.radians(45)   # 绕Y轴旋转\n",
    "gamma = np.radians(60)  # 绕X轴旋转\n",
    "\n",
    "# 定义旋转矩阵\n",
    "R_z = np.array([[np.cos(alpha), -np.sin(alpha), 0],\n",
    "                [np.sin(alpha), np.cos(alpha), 0],\n",
    "                [0, 0, 1]])\n",
    "R_y = np.array([[np.cos(beta), 0, np.sin(beta)],\n",
    "                [0, 1, 0],\n",
    "                [-np.sin(beta), 0, np.cos(beta)]])\n",
    "R_x = np.array([[1, 0, 0],\n",
    "                [0, np.cos(gamma), -np.sin(gamma)],\n",
    "                [0, np.sin(gamma), np.cos(gamma)]])\n",
    "\n",
    "# 总旋转矩阵，注意乘法的顺序\n",
    "R = np.dot(R_x, np.dot(R_y, R_z))\n",
    "\n",
    "print(\"组合旋转矩阵为:\")\n",
    "print(R)"
   ]
  }
 ],
 "metadata": {
  "kernelspec": {
   "display_name": "Python 3",
   "language": "python",
   "name": "python3"
  },
  "language_info": {
   "codemirror_mode": {
    "name": "ipython",
    "version": 3
   },
   "file_extension": ".py",
   "mimetype": "text/x-python",
   "name": "python",
   "nbconvert_exporter": "python",
   "pygments_lexer": "ipython3",
   "version": "3.12.4"
  }
 },
 "nbformat": 4,
 "nbformat_minor": 2
}
